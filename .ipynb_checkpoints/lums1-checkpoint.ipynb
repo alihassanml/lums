{
 "cells": [
  {
   "cell_type": "code",
   "execution_count": 2,
   "id": "6536836d-b631-46cb-b5e9-7836133b8b5a",
   "metadata": {},
   "outputs": [],
   "source": [
    "# import library"
   ]
  },
  {
   "cell_type": "code",
   "execution_count": 4,
   "id": "3f14d325-079e-4910-9374-30d3dae22ea5",
   "metadata": {},
   "outputs": [],
   "source": [
    "import matplotlib.pyplot as plt\n",
    "import numpy as np\n",
    "import matplotlib.image as imd\n",
    "import csv\n",
    "import cv2\n",
    "import warnings\n",
    "warnings.filterwarnings('ignore')"
   ]
  },
  {
   "cell_type": "code",
   "execution_count": 7,
   "id": "d8bc9c38-94f2-406c-b932-b089b66c8290",
   "metadata": {},
   "outputs": [],
   "source": [
    "plt.style.use('ggplot')"
   ]
  },
  {
   "cell_type": "code",
   "execution_count": 24,
   "id": "48510d4a-2561-425d-bb01-618449df54ab",
   "metadata": {},
   "outputs": [],
   "source": [
    "def plot_drawing_from_csv(csv_file):\n",
    "    # Initialize lists to store the X and Y coordinates\n",
    "    x_coords = []\n",
    "    y_coords = []\n",
    "\n",
    "    with open(csv_file, mode='r') as file:\n",
    "        csv_reader = csv.DictReader(file)\n",
    "        for row in csv_reader:\n",
    "            x_coords.append(int(row['X']))\n",
    "            y_coords.append(int(row['Y']))\n",
    "\n",
    "    # Plot the coordinates\n",
    "    plt.figure(figsize=(8, 6))\n",
    "    plt.plot(x_coords, y_coords, color='green', linestyle='-', marker='o')\n",
    "    plt.gca().invert_yaxis()  # Invert the Y-axis to match the OpenCV coordinate system\n",
    "    plt.title('Drawing from Saved Coordinates')\n",
    "    plt.xlabel('X Coordinate')\n",
    "    plt.ylabel('Y Coordinate')\n",
    "    plt.grid(False)\n",
    "    plt.show()"
   ]
  },
  {
   "cell_type": "code",
   "execution_count": 25,
   "id": "5d0b7b6c-4713-4fa4-ba66-dd5fc8632d8e",
   "metadata": {},
   "outputs": [
    {
     "ename": "ValueError",
     "evalue": "invalid literal for int() with base 10: '0.479'",
     "output_type": "error",
     "traceback": [
      "\u001b[0;31m---------------------------------------------------------------------------\u001b[0m",
      "\u001b[0;31mValueError\u001b[0m                                Traceback (most recent call last)",
      "Cell \u001b[0;32mIn[25], line 1\u001b[0m\n\u001b[0;32m----> 1\u001b[0m \u001b[43mplot_drawing_from_csv\u001b[49m\u001b[43m(\u001b[49m\u001b[38;5;124;43m'\u001b[39;49m\u001b[38;5;124;43m4.csv\u001b[39;49m\u001b[38;5;124;43m'\u001b[39;49m\u001b[43m)\u001b[49m\n",
      "Cell \u001b[0;32mIn[24], line 9\u001b[0m, in \u001b[0;36mplot_drawing_from_csv\u001b[0;34m(csv_file)\u001b[0m\n\u001b[1;32m      7\u001b[0m     csv_reader \u001b[38;5;241m=\u001b[39m csv\u001b[38;5;241m.\u001b[39mDictReader(file)\n\u001b[1;32m      8\u001b[0m     \u001b[38;5;28;01mfor\u001b[39;00m row \u001b[38;5;129;01min\u001b[39;00m csv_reader:\n\u001b[0;32m----> 9\u001b[0m         x_coords\u001b[38;5;241m.\u001b[39mappend(\u001b[38;5;28;43mint\u001b[39;49m\u001b[43m(\u001b[49m\u001b[43mrow\u001b[49m\u001b[43m[\u001b[49m\u001b[38;5;124;43m'\u001b[39;49m\u001b[38;5;124;43mx\u001b[39;49m\u001b[38;5;124;43m'\u001b[39;49m\u001b[43m]\u001b[49m\u001b[43m)\u001b[49m)\n\u001b[1;32m     10\u001b[0m         y_coords\u001b[38;5;241m.\u001b[39mappend(\u001b[38;5;28mint\u001b[39m(row[\u001b[38;5;124m'\u001b[39m\u001b[38;5;124my\u001b[39m\u001b[38;5;124m'\u001b[39m]))\n\u001b[1;32m     12\u001b[0m \u001b[38;5;66;03m# Plot the coordinates\u001b[39;00m\n",
      "\u001b[0;31mValueError\u001b[0m: invalid literal for int() with base 10: '0.479'"
     ]
    }
   ],
   "source": [
    "plot_drawing_from_csv('4.csv')"
   ]
  },
  {
   "cell_type": "code",
   "execution_count": null,
   "id": "c49668a1-dfb1-43e6-87b4-c3799939c914",
   "metadata": {},
   "outputs": [],
   "source": []
  }
 ],
 "metadata": {
  "kernelspec": {
   "display_name": "Python 3 (ipykernel)",
   "language": "python",
   "name": "python3"
  },
  "language_info": {
   "codemirror_mode": {
    "name": "ipython",
    "version": 3
   },
   "file_extension": ".py",
   "mimetype": "text/x-python",
   "name": "python",
   "nbconvert_exporter": "python",
   "pygments_lexer": "ipython3",
   "version": "3.12.3"
  }
 },
 "nbformat": 4,
 "nbformat_minor": 5
}
